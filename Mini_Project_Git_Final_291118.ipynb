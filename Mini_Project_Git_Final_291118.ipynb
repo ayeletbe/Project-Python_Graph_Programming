{
 "cells": [
  {
   "cell_type": "code",
   "execution_count": 1,
   "metadata": {
    "collapsed": true
   },
   "outputs": [],
   "source": [
    "#Part I - The Node Class - Task 1\n",
    "\n",
    "class Node:\n",
    "    def __init__(self,name):\n",
    "        self.name=name\n",
    "        self.pointing_at={}\n",
    "        nodes_dict[self.name]=self\n",
    "        self.pointed_at_nodes_list=[]\n",
    "    \n",
    "    def __str__(self):\n",
    "        txt=self.name+\" is pointing at Nodes:\"+str(self.pointing_at)\n",
    "        return txt\n",
    "    \n",
    "    def __len__(self):\n",
    "        return len(self.pointing_at)\n",
    "    \n",
    "    def __eq__(self, other):\n",
    "        return self.name == other\n",
    "    \n",
    "    def __ne__(self, other):\n",
    "        return self.name != other\n",
    "    \n",
    "    def is_pointing_at(self, name):\n",
    "        return name in self.pointing_at.keys()\n",
    "    \n",
    "    def add_neighbor(self,name,weight=1):\n",
    "        if self.name==name:\n",
    "            print 'Not Allowed:',name,'is you'\n",
    "            return\n",
    "        if weight<1:\n",
    "            print 'weight:',weight,'Not Allowed'\n",
    "            return\n",
    "        if name in self.pointing_at.keys():\n",
    "            print 'Not Allowed:',name,'is An Existing neighbor of', self.name\n",
    "            return\n",
    "#        if name not in nodes_dict.keys():\n",
    "#            print name,'Dose not Exist'\n",
    "#            return\n",
    "        self.pointing_at[name]=weight\n",
    "        print self.name, 'Is now pointing at' , name\n",
    "        \n",
    "    def remove_neighbor(self,name):\n",
    "        if name not in self.pointing_at.keys():\n",
    "            print name,'is not a neighbor of', self.name\n",
    "            return\n",
    "#        if name not in nodes_dict.values():\n",
    "#            print name,'Dose not Exists'\n",
    "#            return\n",
    "        del self.pointing_at[name]\n",
    "        print self.name, 'Is now Not pointing at' , name\n",
    "        \n",
    "    def get_weight(self,name):\n",
    "        if name not in self.pointing_at.keys():\n",
    "            return None\n",
    "        return self.pointing_at[name]\n",
    "        \n",
    "#    def node_num_edges(self):\n",
    "#        return len(self.pointing_at)\n",
    "    \n",
    "#    def node_edges_weight(self):\n",
    "#        return sum(self.pointing_at.values())\n",
    "    \n",
    "    def is_isolated(self):\n",
    "        pointed_at_nodes_list=[]\n",
    "        for node in nodes_dict.values():\n",
    "            pointed_at_nodes_list.extend(node.pointing_at.keys())\n",
    "        return self.name not in pointed_at_nodes_list\n",
    "\n",
    "# Node Node Node\n"
   ]
  },
  {
   "cell_type": "code",
   "execution_count": 2,
   "metadata": {
    "collapsed": true
   },
   "outputs": [],
   "source": [
    "#Part I - Task 2 - Exemplary usage\n",
    "\n",
    "#Question 1\n",
    "\n",
    "nodes_dict={}\n",
    "#nodes_pointed_at_list=[]\n",
    "node1=Node('node1')\n",
    "node1.pointing_at={'node2':10,'node4':20,'node5':20,'node6':5,'node7':15}\n",
    "node2=Node('node2')\n",
    "node2.pointing_at={'node3':5,'node4':10}\n",
    "node3=Node('node3')\n",
    "node3.pointing_at={'node4':5,'node2':15}\n",
    "node4=Node('node4')\n",
    "node4.pointing_at={'node5':10}\n",
    "node5=Node('node5')\n",
    "node5.pointing_at={'node6':5}\n",
    "node6=Node('node6')\n",
    "node7=Node('node7')\n",
    "node7.pointing_at={'node6':10}\n",
    "node8=Node('node8')\n",
    "node8.pointing_at={'node1':5,'node2':20,'node7':5}\n",
    "node9=Node('node9')\n",
    "node9.pointing_at={'node2':15,'node8':20,'node10':10}\n",
    "node10=Node('node10')\n",
    "node10.pointing_at={'node2':5,'node3':15}\n",
    "#print node9.is_isolated()\n",
    "#print nodes_dict\n"
   ]
  },
  {
   "cell_type": "code",
   "execution_count": 3,
   "metadata": {},
   "outputs": [
    {
     "name": "stdout",
     "output_type": "stream",
     "text": [
      "node2 is pointing at Nodes:{'node3': 5, 'node4': 10}\n"
     ]
    }
   ],
   "source": [
    "print node2"
   ]
  },
  {
   "cell_type": "code",
   "execution_count": 4,
   "metadata": {},
   "outputs": [
    {
     "data": {
      "text/plain": [
       "2"
      ]
     },
     "execution_count": 4,
     "metadata": {},
     "output_type": "execute_result"
    }
   ],
   "source": [
    "len(node2)"
   ]
  },
  {
   "cell_type": "code",
   "execution_count": 5,
   "metadata": {},
   "outputs": [
    {
     "data": {
      "text/plain": [
       "True"
      ]
     },
     "execution_count": 5,
     "metadata": {},
     "output_type": "execute_result"
    }
   ],
   "source": [
    "node2.is_pointing_at('node3')"
   ]
  },
  {
   "cell_type": "code",
   "execution_count": 6,
   "metadata": {},
   "outputs": [
    {
     "data": {
      "text/plain": [
       "False"
      ]
     },
     "execution_count": 6,
     "metadata": {},
     "output_type": "execute_result"
    }
   ],
   "source": [
    "node2.is_pointing_at('node5')"
   ]
  },
  {
   "cell_type": "code",
   "execution_count": 7,
   "metadata": {},
   "outputs": [
    {
     "name": "stdout",
     "output_type": "stream",
     "text": [
      "Not Allowed: node2 is you\n",
      "weight: 0 Not Allowed\n",
      "node2 Is now pointing at node15\n",
      "node2 Is now pointing at node5\n",
      "node2 is pointing at Nodes:{'node5': 15, 'node3': 5, 'node15': 1, 'node4': 10}\n",
      "node2 Is now Not pointing at node15\n",
      "node2 Is now Not pointing at node5\n",
      "node6 is not a neighbor of node2\n",
      "node2 is pointing at Nodes:{'node3': 5, 'node4': 10}\n"
     ]
    }
   ],
   "source": [
    "node2.add_neighbor('node2',10)\n",
    "node2.add_neighbor('node4',0)\n",
    "node2.add_neighbor('node15')\n",
    "node2.add_neighbor('node5',15)\n",
    "print node2\n",
    "node2.remove_neighbor('node15')\n",
    "node2.remove_neighbor('node5')\n",
    "node2.remove_neighbor('node6')\n",
    "print node2"
   ]
  },
  {
   "cell_type": "code",
   "execution_count": 8,
   "metadata": {
    "collapsed": true
   },
   "outputs": [],
   "source": [
    "node5.get_weight('node2')"
   ]
  },
  {
   "cell_type": "code",
   "execution_count": 9,
   "metadata": {},
   "outputs": [
    {
     "data": {
      "text/plain": [
       "10"
      ]
     },
     "execution_count": 9,
     "metadata": {},
     "output_type": "execute_result"
    }
   ],
   "source": [
    "node7.get_weight('node6')"
   ]
  },
  {
   "cell_type": "code",
   "execution_count": 10,
   "metadata": {},
   "outputs": [
    {
     "data": {
      "text/plain": [
       "False"
      ]
     },
     "execution_count": 10,
     "metadata": {},
     "output_type": "execute_result"
    }
   ],
   "source": [
    "node7.is_isolated()"
   ]
  },
  {
   "cell_type": "code",
   "execution_count": 11,
   "metadata": {},
   "outputs": [
    {
     "data": {
      "text/plain": [
       "True"
      ]
     },
     "execution_count": 11,
     "metadata": {},
     "output_type": "execute_result"
    }
   ],
   "source": [
    "node9.is_isolated()"
   ]
  },
  {
   "cell_type": "code",
   "execution_count": 12,
   "metadata": {},
   "outputs": [
    {
     "name": "stdout",
     "output_type": "stream",
     "text": [
      "Total number of edges= 20\n",
      "Total edges weight= 225\n"
     ]
    }
   ],
   "source": [
    "#Part I - Task 2 - Exemplary usage\n",
    "\n",
    "#Question 3\n",
    "\n",
    "total_num_edges=0\n",
    "total_edges_weigth=0\n",
    "for node in nodes_dict.values():\n",
    "    total_num_edges=total_num_edges+len(node)\n",
    "    total_edges_weigth=total_edges_weigth+sum(node.pointing_at.values())\n",
    "    \n",
    "print 'Total number of edges=', total_num_edges\n",
    "print 'Total edges weight=', total_edges_weigth"
   ]
  },
  {
   "cell_type": "code",
   "execution_count": 13,
   "metadata": {},
   "outputs": [
    {
     "name": "stdout",
     "output_type": "stream",
     "text": [
      "Nodes sorted by length= \n",
      "\n",
      "node6 \t Num neighbors 0\n",
      "node4 \t Num neighbors 1\n",
      "node5 \t Num neighbors 1\n",
      "node7 \t Num neighbors 1\n",
      "node10 \t Num neighbors 2\n",
      "node2 \t Num neighbors 2\n",
      "node3 \t Num neighbors 2\n",
      "node8 \t Num neighbors 3\n",
      "node9 \t Num neighbors 3\n",
      "node1 \t Num neighbors 5\n"
     ]
    }
   ],
   "source": [
    "#Part I - Task 2 - Exemplary usage\n",
    "\n",
    "#Question 4\n",
    "\n",
    "dict_nodes_len={}\n",
    "for node in nodes_dict.values():\n",
    "    dict_nodes_len[node.name]=len(node)\n",
    "#print dict_nodes_len\n",
    "\n",
    "sorted_by_len=sorted(dict_nodes_len.items(),key=lambda x:(x[1],x[0]))\n",
    "print 'Nodes sorted by length=','\\n'\n",
    "for item in range(0,len(sorted_by_len)):\n",
    "    print sorted_by_len[item][0],'\\t Num neighbors',sorted_by_len[item][1]"
   ]
  },
  {
   "cell_type": "code",
   "execution_count": 14,
   "metadata": {
    "collapsed": true
   },
   "outputs": [],
   "source": [
    "#Part II - The Graph Class - Task 1\n",
    "\n",
    "class Graph:\n",
    "    def __init__(self,name,nodes=[]):\n",
    "        self.name=name\n",
    "        \n",
    "        self.nodes={}\n",
    "        for node in nodes:\n",
    "            self.nodes[node.name]=node,999\n",
    "            \n",
    "        self.graph_chart={}\n",
    "        for node in nodes:\n",
    "            self.graph_chart[node.name]=[]\n",
    "            for neighbor in node.pointing_at:\n",
    "                if neighbor in nodes:\n",
    "                    self.graph_chart[node.name].append(neighbor)\n",
    "                    \n",
    "        self.edges={}\n",
    "        for node in nodes:\n",
    "            for neighbor in node.pointing_at:\n",
    "                if neighbor in nodes:\n",
    "                    self.edges[node.name,neighbor]=node.pointing_at[neighbor]\n",
    "        \n",
    "        self.pointed_from_nodesnames={}\n",
    "        self.pointed_from_nodesinst={}\n",
    "        for node in nodes:\n",
    "            #print node.name,'------'\n",
    "            self.pointed_from_nodesnames[node.name]=[]\n",
    "            self.pointed_from_nodesinst[node.name]=[]\n",
    "            for item in nodes_dict.values():\n",
    "                if item.name==node.name:\n",
    "                    continue\n",
    "                #print item.name,'+++++'\n",
    "                for neighbor in item.pointing_at.keys():\n",
    "                    #print neighbor\n",
    "                    if neighbor==node.name:\n",
    "                        self.pointed_from_nodesnames[node.name].append(item.name)\n",
    "                        self.pointed_from_nodesinst[node.name].append(item)              \n",
    "                        \n",
    "    def __str__(self):\n",
    "        txt= \"Graph Name: \"+self.name+ \" Num Nodes: \"+str(len(self.nodes.keys()))+ '\\n Graph Chart: \\n'\n",
    "        for node, pointing_at_nodes in self.graph_chart.items():\n",
    "            txt+= \"{}:{}\\n\".format(node,pointing_at_nodes)\n",
    "        return txt\n",
    "         \n",
    "    \n",
    "    def __len__(self):\n",
    "        return len(self.nodes)\n",
    "    \n",
    "#    def __contains__(self,key):\n",
    "#        if (type(key)==type(' '))&(key in self.nodes.keys()):\n",
    "#            return True\n",
    "#        elif isinstance(key,Node)& (key.name in self.nodes.keys()):\n",
    "#            return True\n",
    "#        else:\n",
    "#            return False      \n",
    "\n",
    "    def __contains__(self,key):\n",
    "        if (type(key)==type(' ')):\n",
    "            if (key in self.nodes.keys()):\n",
    "                return True\n",
    "            return False\n",
    "        if isinstance(key,Node)& (key.name in self.nodes.keys()):\n",
    "            return True\n",
    "        else:\n",
    "            return False      \n",
    "                \n",
    "    def __getitem__(self,node_name):\n",
    "        return self.nodes[node_name]  \n",
    "    \n",
    "    \n",
    "    def __add__(self,other):\n",
    "        new_graph=self.name+other.name\n",
    "        list_self_nodes=[]\n",
    "        for node in self.nodes.values():\n",
    "            list_self_nodes.append(node[0])\n",
    "            #print list_self_nodes\n",
    "        new_graph=Graph(new_graph,list_self_nodes)\n",
    "\n",
    "        list_other_nodes=[]\n",
    "        for node in other.nodes.values():\n",
    "            list_other_nodes.append(node[0])\n",
    "            #print list_other_nodes\n",
    "        for other_node in list_other_nodes:\n",
    "            new_graph.add_node(other_node)\n",
    "        return new_graph\n",
    "   \n",
    "    def add_node_xxx(self,node):\n",
    "        if node.name in self.nodes.keys():\n",
    "            print 'Note:', node.name, 'is already in',self.name,'.Only new edges are added'\n",
    "            for edge in node.pointing_at.keys():\n",
    "                if edge in self.graph_chart[node.name]:\n",
    "                    continue\n",
    "                else:\n",
    "                    if edge not in self.nodes.keys():\n",
    "                        continue\n",
    "                    self.graph_chart[node.name].append(edge)\n",
    "            #    node.add_neighbor(edge)\n",
    "            #    return\n",
    "        self.pointed_from_nodesnames[node.name]=[]\n",
    "        self.pointed_from_nodesinst[node.name]=[]\n",
    "        for item in nodes_dict.values():\n",
    "            if item.name==node.name:\n",
    "                continue\n",
    "            for neighbor in item.pointing_at.keys():\n",
    "                if neighbor==node.name:\n",
    "                    self.pointed_from_nodesnames[node.name].append(item.name)\n",
    "                    self.pointed_from_nodesinst[node.name].append(item)             \n",
    "            \n",
    "        self.nodes[node.name]=node,999\n",
    "        self.graph_chart[node.name]=[]\n",
    "        for neighbor in node.pointing_at:\n",
    "            if neighbor in self.nodes:\n",
    "                self.graph_chart[node.name].append(neighbor)      \n",
    "        for edge in self.pointed_from_nodesnames[node.name]:\n",
    "            if edge in self.nodes:\n",
    "                self.graph_chart[edge].append(node.name)       \n",
    "               \n",
    "        for neighbor in node.pointing_at:\n",
    "            if neighbor in self.nodes:\n",
    "                    self.edges[node.name,neighbor]=node.pointing_at[neighbor]\n",
    "        for edge in self.pointed_from_nodesinst[node.name]:\n",
    "            if edge.name in self.nodes:\n",
    "                self.edges[edge.name,node.name]=edge.pointing_at[node.name]\n",
    "        print node.name, 'is Added to', self.name\n",
    "        \n",
    "        \n",
    "    def add_node(self,node):\n",
    "        if node.name in self.nodes.keys():\n",
    "            print 'Note:', node.name, 'is already in',self.name,'.Only new edges are added'\n",
    "            for edge in node.pointing_at.keys():\n",
    "                if edge in self.graph_chart[node.name]:\n",
    "                    continue\n",
    "                else:\n",
    "                    if edge not in self.nodes.keys():\n",
    "                        continue\n",
    "                    else:\n",
    "                        \n",
    "                        self.graph_chart[node.name].append(edge)\n",
    "                        self.edges[node.name,edge]=node.pointing_at[edge]\n",
    "        \n",
    "                        self.pointed_from_nodesnames[node.name]=[]\n",
    "                        self.pointed_from_nodesinst[node.name]=[]\n",
    "                        for item in nodes_dict.values():\n",
    "                            if item.name==node.name:\n",
    "                                continue\n",
    "                            for neighbor in item.pointing_at.keys():\n",
    "                                if neighbor==node.name:\n",
    "                                    self.pointed_from_nodesnames[node.name].append(item.name)\n",
    "                                    self.pointed_from_nodesinst[node.name].append(item)             \n",
    "\n",
    "\n",
    "        else:\n",
    "\n",
    "            self.pointed_from_nodesnames[node.name]=[]\n",
    "            self.pointed_from_nodesinst[node.name]=[]\n",
    "            for item in nodes_dict.values():\n",
    "                if item.name==node.name:\n",
    "                    continue\n",
    "                for neighbor in item.pointing_at.keys():\n",
    "                    if neighbor==node.name:\n",
    "                        self.pointed_from_nodesnames[node.name].append(item.name)\n",
    "                        self.pointed_from_nodesinst[node.name].append(item)             \n",
    "            \n",
    "            self.nodes[node.name]=node,999\n",
    "            self.graph_chart[node.name]=[]\n",
    "            for neighbor in node.pointing_at:\n",
    "                if neighbor in self.nodes:\n",
    "                    self.graph_chart[node.name].append(neighbor)      \n",
    "            for edge in self.pointed_from_nodesnames[node.name]:\n",
    "                if edge in self.nodes:\n",
    "                    self.graph_chart[edge].append(node.name)       \n",
    "               \n",
    "            for neighbor in node.pointing_at:\n",
    "                if neighbor in self.nodes:\n",
    "                    self.edges[node.name,neighbor]=node.pointing_at[neighbor]\n",
    "            for edge in self.pointed_from_nodesinst[node.name]:\n",
    "                if edge.name in self.nodes:\n",
    "                    self.edges[edge.name,node.name]=edge.pointing_at[node.name]\n",
    "            print node.name, 'is Added to', self.name\n",
    "      \n",
    "        \n",
    "    def remove_node(self,name):\n",
    "        if name not in self.nodes.keys():\n",
    "            print 'Note:', name, 'is not in:',self.name\n",
    "            return\n",
    "        del self.nodes[name]\n",
    "        del self.graph_chart[name]\n",
    "        for vertix in self.graph_chart.keys():\n",
    "            if name in self.graph_chart[vertix]:\n",
    "                self.graph_chart[vertix].remove(name)\n",
    "        tmp_list=[]\n",
    "        for edge in self.edges:\n",
    "            if name in edge:\n",
    "                tmp_list.append(edge)\n",
    "        for item in tmp_list:\n",
    "            del self.edges[item]\n",
    "        \n",
    "        print name, 'Removed From', self.name\n",
    "       \n",
    "    def is_edge(self,frm_node_name,to_node_name):\n",
    "        if frm_node_name not in self.nodes.keys():\n",
    "            print 'UN:',frm_node_name, 'is not in ', self.name\n",
    "            return\n",
    "        if to_node_name not in self.nodes.keys():\n",
    "            print 'UN:',to_node_name, 'is not in ', self.name\n",
    "            return\n",
    "        if to_node_name in self.graph_chart[frm_node_name]:\n",
    "            return True\n",
    "        else:\n",
    "            return False      \n",
    "        \n",
    "    def add_edge(self,frm_name,to_name,weight=1):\n",
    "        if frm_name not in self.nodes.keys():\n",
    "            print 'Not Allowed:',frm_name, 'is not in ', self.name\n",
    "            return\n",
    "        if to_name not in self.nodes.keys():\n",
    "            print 'Not Allowed:',to_name, 'is not in ', self.name\n",
    "            return\n",
    "        if to_name in self.graph_chart[frm_name]:\n",
    "            print 'Not Allowed:',to_name, 'is already a neighbor of ', frm_name\n",
    "            return\n",
    "        if to_name==frm_name:\n",
    "            print 'Not Allowed:',to_name, frm_name, 'Are identical'\n",
    "            return\n",
    "        self.graph_chart[frm_name].append(to_name)\n",
    "        self.edges[frm_name,to_name]=weight\n",
    "        self.pointed_from_nodesnames[to_name].append(frm_name)\n",
    "        self.pointed_from_nodesinst[to_name].append(frm_name) \n",
    "        print frm_name, 'Is now pointing at' , to_name\n",
    "        \n",
    "    def remove_edge(self,frm_name,to_name):\n",
    "        if frm_name not in self.nodes.keys():\n",
    "            print 'Not Allowed:',frm_name, 'is not in ', self.name\n",
    "            return\n",
    "        if to_name not in self.nodes.keys():\n",
    "            print 'Not Allowed:',to_name, 'is not in ', self.name\n",
    "            return\n",
    "        if to_name not in self.graph_chart[frm_name]:\n",
    "            print to_name, 'is not a neighbor of ', frm_name\n",
    "            return\n",
    "        self.graph_chart[frm_name].remove(to_name)\n",
    "        del self.edges[frm_name,to_name]\n",
    "        self.pointed_from_nodesnames[to_name].remove(frm_name)\n",
    "        self.pointed_from_nodesinst[to_name].remove(frm_name)\n",
    "        print frm_name, 'Is now Not pointing at' , to_name\n",
    "        \n",
    "#    def add_edge(self,frm_node,to_node,weight=1):\n",
    "#        if frm_node not in self.nodes.values():\n",
    "#            print frm_node.name, 'is not in ', self.name\n",
    "#        if to_node not in self.nodes.values():\n",
    "#            print to_node.name, 'is not in ', self.name\n",
    "#        if to_node.name in frm_node.pointing_at.keys():\n",
    "#            print to_node.name, 'is already a neighbor of ', frm_node.name\n",
    "#            return\n",
    "#        if to_node==frm_node:\n",
    "#            print 'Not Allowed:',to_node.name, frm_node.name, 'Are identical'\n",
    "#            return\n",
    "#        frm_node.add_neighbor(to_node.name,weight)\n",
    "        \n",
    "#    def remove_edge(self,frm_node,to_node):\n",
    "#        if frm_node not in self.nodes.values():\n",
    "#            print frm_node.name, 'is not in ', self.name\n",
    "#        if to_node not in self.nodes.values():\n",
    "#            print to_node.name, 'is not in ', self.name\n",
    "#        frm_node.remove_neighbor(to_node.name)\n",
    "\n",
    "    def get_edge_weight(self,frm_node_name,to_node_name):\n",
    "        if frm_node_name not in self.nodes.keys():\n",
    "            print 'UN:',frm_node_name, 'is not in ', self.name\n",
    "            return\n",
    "        if to_node_name not in self.nodes.keys():\n",
    "            print 'UN:',to_node_name, 'is not in ', self.name\n",
    "            return\n",
    "        if to_node_name not in self.graph_chart[frm_node_name]:\n",
    "            print to_node_name, 'is not a neighbor of ', frm_node_name\n",
    "            return None\n",
    "        return self.edges[(frm_node_name,to_node_name)]\n",
    "\n",
    "    def get_path_weight(self,path=[]):\n",
    "        total_path_weight=0\n",
    "        if len(path)<=1:\n",
    "            return None\n",
    "        if any ([node not in self.graph_chart.keys() for node in path]):\n",
    "#            print 'Some node not in graph'\n",
    "            return None\n",
    "        elif any(path[i+1] not in self.graph_chart[path[i]] for i in range(0,len(path)-1)):\n",
    "#            print 'No path between some nodes'\n",
    "            return None\n",
    "        for i in range(0,len(path)-1):\n",
    "            edge_weight=self.get_edge_weight(path[i],path[i+1])\n",
    "            total_path_weight=total_path_weight+edge_weight\n",
    "        return total_path_weight\n",
    "    \n",
    "    def BFS(self,frm_node,to_node,q=[]):\n",
    "        x=[frm_node,to_node]\n",
    "        valid_paths_dict={}\n",
    "        if any ([vertax not in self.graph_chart.keys() for vertax in x]):\n",
    "            return valid_paths_dict\n",
    "        else:\n",
    "            temp_path=[frm_node]\n",
    "            q.append(temp_path)\n",
    "            valid_paths=[]\n",
    "            valid_paths_dict={}\n",
    "        \n",
    "            while len(q)>0:\n",
    "            \n",
    "                tmp_path=q.pop(0)\n",
    "                last_node=tmp_path[len(tmp_path)-1]\n",
    "                if last_node == to_node:\n",
    "                    path_length=len(tmp_path)-1\n",
    "                    path_weight=0\n",
    "                    for i in range(0,len(tmp_path)-1):\n",
    "                        tmp_weight=self.edges[tmp_path[i],tmp_path[i+1]]\n",
    "                        path_weight=tmp_weight+path_weight\n",
    "                    valid_paths.append(tmp_path)\n",
    "                    valid_paths_dict[tuple(tmp_path)]=[frm_node,to_node],path_weight,path_length\n",
    "                for neighbor in self.graph_chart[last_node]:\n",
    "                    if neighbor not in self.graph_chart.keys():\n",
    "                        continue\n",
    "                    if neighbor not in tmp_path:\n",
    "                        new_path=[]\n",
    "                        new_path=tmp_path+[neighbor]\n",
    "                        q.append(new_path)\n",
    "\n",
    "            return valid_paths_dict\n",
    "\n",
    "        \n",
    "    def dijkstras(self,frm_node_name,to_node_name):\n",
    "        x=[frm_node_name,to_node_name] \n",
    "        dijkstras_dict={}\n",
    "        if any ([vertax not in self.graph_chart.keys() for vertax in x]):\n",
    "            return dijkstras_dict\n",
    "        else:\n",
    "            frm_node=frm_node_name\n",
    "            to_node=to_node_name\n",
    "        \n",
    "            dijkstras_dict={}\n",
    "            for node in self.nodes:\n",
    "                dijkstras_dict[node]=[999999999,'']\n",
    "            visited_list=[]\n",
    "            unvisited_list=[node for node in self.nodes]\n",
    "            nxt_node=frm_node\n",
    "            dijkstras_dict[nxt_node][0]=0\n",
    "            visited_list.append(nxt_node)\n",
    "            while len(unvisited_list)>0:\n",
    "                unvisited_list.remove(nxt_node)\n",
    "            \n",
    "                for neighbor in self.graph_chart[nxt_node]:\n",
    "                    if neighbor in visited_list:\n",
    "                        continue\n",
    "                    tmp_value=dijkstras_dict[nxt_node][0]+self.edges[nxt_node,neighbor]\n",
    "                    if dijkstras_dict[neighbor][0]>tmp_value:\n",
    "                        dijkstras_dict[neighbor][0]=tmp_value\n",
    "                        dijkstras_dict[neighbor][1]=nxt_node\n",
    "                \n",
    "                sorted_by_tmp_value=sorted(dijkstras_dict.items(),key=lambda x:(x[1],x[0]))\n",
    "                tmp_list=[]\n",
    "                for item in sorted_by_tmp_value:\n",
    "                    if item[0] not in visited_list:\n",
    "                        tmp_list.append(item[0])\n",
    "                if len(tmp_list)>0:\n",
    "                    nxt_node=tmp_list[0]\n",
    "                visited_list.append(nxt_node)\n",
    "            \n",
    "            return dijkstras_dict\n",
    "        \n",
    "    def is_reachable_tmp(self,frm_name,to_name):\n",
    "        if frm_name not in self.nodes.keys():\n",
    "            print 'UN:',frm_name, 'is not in ', self.name\n",
    "            return\n",
    "        if to_name not in self.nodes.keys():\n",
    "            print 'UN:',to_name, 'is not in ', self.name\n",
    "            return\n",
    "        if len(self.BFS(frm_name,to_name))>0:\n",
    "            print 'True'\n",
    "        else:\n",
    "            print 'False'\n",
    "            \n",
    "    def is_reachable(self,frm_name,to_name):\n",
    "        if len(self.BFS(frm_name,to_name))>0:\n",
    "            return 'True'\n",
    "        else:\n",
    "            return 'False'\n",
    "            \n",
    "    def find_shortest_path_tmp(self,frm_name,to_name):\n",
    "        dict={}\n",
    "        dict=self.dijkstras(frm_name,to_name)\n",
    "        vertex=to_name\n",
    "        path=[to_name]\n",
    "#        print dict\n",
    "        if dict[to_name][1]=='':\n",
    "            print 'None'\n",
    "            vertex=frm_name\n",
    "        while vertex <>frm_name:\n",
    "            path.insert(0,dict[vertex][1])\n",
    "            vertex=dict[vertex][1]\n",
    "            print 'shortest_path from',frm_name, 'to',to_name,'= \\n',path\n",
    "            print 'path minimum weight= ',dict[to_name][0]\n",
    "            \n",
    "    def find_shortest_path(self,frm_name,to_name):\n",
    "        x=[frm_name,to_name] \n",
    "        if any ([vertax not in self.graph_chart.keys() for vertax in x]):\n",
    "            return None\n",
    "        else:\n",
    "        \n",
    "            result_list=[]\n",
    "            result_dict={}\n",
    "            dict={}\n",
    "            dict=self.dijkstras(frm_name,to_name)\n",
    "            vertex=to_name\n",
    "            path=[to_name]\n",
    "\n",
    "            if dict[to_name][1]=='':\n",
    "                result_dict[frm_name,to_name]=int(0)        \n",
    "                return None\n",
    "            else:\n",
    "                while vertex <>frm_name:\n",
    "                    path.insert(0,dict[vertex][1])\n",
    "                    vertex=dict[vertex][1]\n",
    "                    result_dict[frm_name,to_name]=dict[to_name][0]\n",
    "            #return result_dict\n",
    "            return path\n",
    "\n",
    "    def find_shortest_path_tmp1(self,frm_name,to_name):\n",
    "        x=[frm_name,to_name] \n",
    "        if any ([vertax not in self.graph_chart.keys() for vertax in x]):\n",
    "            return None\n",
    "        else:\n",
    "        \n",
    "            result_list=[]\n",
    "            result_dict={}\n",
    "            dict={}\n",
    "            dict=self.dijkstras(frm_name,to_name)\n",
    "            vertex=to_name\n",
    "            path=[to_name]\n",
    "\n",
    "            if dict[to_name][1]=='':\n",
    "                result_dict[frm_name,to_name]=int(0)        \n",
    "                #vertex=frm_name\n",
    "            else:\n",
    "                while vertex <>frm_name:\n",
    "                    path.insert(0,dict[vertex][1])\n",
    "                    vertex=dict[vertex][1]\n",
    "                    result_dict[frm_name,to_name]=dict[to_name][0]\n",
    "            return result_dict\n",
    "        \n",
    "    def is_isolated(self,node_name):\n",
    "        if len(self.pointed_from_nodesnames[node_name])==0:\n",
    "            return True\n",
    "        else:\n",
    "            if all ([node not in self.graph_chart.keys() for node in self.pointed_from_nodesnames[node_name]]):\n",
    "                return True\n",
    "            else:\n",
    "                return False\n",
    "            \n",
    "    def is_dead_end(self,node_name):\n",
    "        if len(self.graph_chart[node_name])==0:\n",
    "            return True\n",
    "        else:\n",
    "            return False\n",
    "\n",
    "    \n",
    "            \n",
    "# Graph Graph Graph\n"
   ]
  },
  {
   "cell_type": "code",
   "execution_count": 15,
   "metadata": {},
   "outputs": [
    {
     "name": "stdout",
     "output_type": "stream",
     "text": [
      "Graph Name: graph1 Num Nodes: 5\n",
      " Graph Chart: \n",
      "node9:['node2', 'node10']\n",
      "node10:['node3', 'node2']\n",
      "node3:['node2', 'node4']\n",
      "node2:['node3', 'node4']\n",
      "node4:[]\n",
      "\n",
      "graph1_nodes= \n",
      "{'node9': (<__main__.Node instance at 0x0000000007012F08>, 999), 'node10': (<__main__.Node instance at 0x0000000007012B88>, 999), 'node3': (<__main__.Node instance at 0x0000000007012EC8>, 999), 'node2': (<__main__.Node instance at 0x0000000007012948>, 999), 'node4': (<__main__.Node instance at 0x0000000007012E08>, 999)} \n",
      "\n",
      "graph1_chart= \n",
      "{'node9': ['node2', 'node10'], 'node10': ['node3', 'node2'], 'node3': ['node2', 'node4'], 'node2': ['node3', 'node4'], 'node4': []} \n",
      "\n",
      "graph1_edges= \n",
      "{('node2', 'node3'): 5, ('node3', 'node2'): 15, ('node10', 'node3'): 15, ('node3', 'node4'): 5, ('node10', 'node2'): 5, ('node9', 'node10'): 10, ('node9', 'node2'): 15, ('node2', 'node4'): 10} \n",
      "\n"
     ]
    }
   ],
   "source": [
    "graph1=Graph('graph1',[node2,node3,node4,node9,node10])\n",
    "print graph1\n",
    "print 'graph1_nodes= \\n',graph1.nodes,'\\n'\n",
    "print 'graph1_chart= \\n',graph1.graph_chart,'\\n'\n",
    "print 'graph1_edges= \\n',graph1.edges,'\\n'"
   ]
  },
  {
   "cell_type": "code",
   "execution_count": 16,
   "metadata": {},
   "outputs": [
    {
     "data": {
      "text/plain": [
       "5"
      ]
     },
     "execution_count": 16,
     "metadata": {},
     "output_type": "execute_result"
    }
   ],
   "source": [
    "len(graph1)"
   ]
  },
  {
   "cell_type": "code",
   "execution_count": 17,
   "metadata": {},
   "outputs": [
    {
     "data": {
      "text/plain": [
       "True"
      ]
     },
     "execution_count": 17,
     "metadata": {},
     "output_type": "execute_result"
    }
   ],
   "source": [
    "node2 in graph1"
   ]
  },
  {
   "cell_type": "code",
   "execution_count": 18,
   "metadata": {},
   "outputs": [
    {
     "data": {
      "text/plain": [
       "True"
      ]
     },
     "execution_count": 18,
     "metadata": {},
     "output_type": "execute_result"
    }
   ],
   "source": [
    "'node2' in graph1"
   ]
  },
  {
   "cell_type": "code",
   "execution_count": 19,
   "metadata": {},
   "outputs": [
    {
     "data": {
      "text/plain": [
       "False"
      ]
     },
     "execution_count": 19,
     "metadata": {},
     "output_type": "execute_result"
    }
   ],
   "source": [
    "node6 in graph1"
   ]
  },
  {
   "cell_type": "code",
   "execution_count": 20,
   "metadata": {},
   "outputs": [
    {
     "data": {
      "text/plain": [
       "(<__main__.Node instance at 0x0000000007012B88>, 999)"
      ]
     },
     "execution_count": 20,
     "metadata": {},
     "output_type": "execute_result"
    }
   ],
   "source": [
    "graph1['node10']"
   ]
  },
  {
   "cell_type": "code",
   "execution_count": 21,
   "metadata": {},
   "outputs": [
    {
     "ename": "KeyError",
     "evalue": "'node8'",
     "output_type": "error",
     "traceback": [
      "\u001b[1;31m---------------------------------------------------------------------------\u001b[0m",
      "\u001b[1;31mKeyError\u001b[0m                                  Traceback (most recent call last)",
      "\u001b[1;32m<ipython-input-21-e3e0980bc15f>\u001b[0m in \u001b[0;36m<module>\u001b[1;34m()\u001b[0m\n\u001b[1;32m----> 1\u001b[1;33m \u001b[0mgraph1\u001b[0m\u001b[1;33m[\u001b[0m\u001b[1;34m'node8'\u001b[0m\u001b[1;33m]\u001b[0m\u001b[1;33m\u001b[0m\u001b[0m\n\u001b[0m",
      "\u001b[1;32m<ipython-input-14-cdea651454f4>\u001b[0m in \u001b[0;36m__getitem__\u001b[1;34m(self, node_name)\u001b[0m\n\u001b[0;32m     67\u001b[0m \u001b[1;33m\u001b[0m\u001b[0m\n\u001b[0;32m     68\u001b[0m     \u001b[1;32mdef\u001b[0m \u001b[0m__getitem__\u001b[0m\u001b[1;33m(\u001b[0m\u001b[0mself\u001b[0m\u001b[1;33m,\u001b[0m\u001b[0mnode_name\u001b[0m\u001b[1;33m)\u001b[0m\u001b[1;33m:\u001b[0m\u001b[1;33m\u001b[0m\u001b[0m\n\u001b[1;32m---> 69\u001b[1;33m         \u001b[1;32mreturn\u001b[0m \u001b[0mself\u001b[0m\u001b[1;33m.\u001b[0m\u001b[0mnodes\u001b[0m\u001b[1;33m[\u001b[0m\u001b[0mnode_name\u001b[0m\u001b[1;33m]\u001b[0m\u001b[1;33m\u001b[0m\u001b[0m\n\u001b[0m\u001b[0;32m     70\u001b[0m \u001b[1;33m\u001b[0m\u001b[0m\n\u001b[0;32m     71\u001b[0m \u001b[1;33m\u001b[0m\u001b[0m\n",
      "\u001b[1;31mKeyError\u001b[0m: 'node8'"
     ]
    }
   ],
   "source": [
    "graph1['node8']"
   ]
  },
  {
   "cell_type": "code",
   "execution_count": 22,
   "metadata": {},
   "outputs": [
    {
     "data": {
      "text/plain": [
       "True"
      ]
     },
     "execution_count": 22,
     "metadata": {},
     "output_type": "execute_result"
    }
   ],
   "source": [
    "graph1.is_edge('node9','node2')"
   ]
  },
  {
   "cell_type": "code",
   "execution_count": 23,
   "metadata": {},
   "outputs": [
    {
     "data": {
      "text/plain": [
       "False"
      ]
     },
     "execution_count": 23,
     "metadata": {},
     "output_type": "execute_result"
    }
   ],
   "source": [
    "graph1.is_edge('node9','node4')"
   ]
  },
  {
   "cell_type": "code",
   "execution_count": 24,
   "metadata": {},
   "outputs": [
    {
     "name": "stdout",
     "output_type": "stream",
     "text": [
      "UN: node8 is not in  graph1\n"
     ]
    }
   ],
   "source": [
    "graph1.is_edge('node9','node8')"
   ]
  },
  {
   "cell_type": "code",
   "execution_count": 25,
   "metadata": {},
   "outputs": [
    {
     "name": "stdout",
     "output_type": "stream",
     "text": [
      "UN: node1 is not in  graph1\n"
     ]
    }
   ],
   "source": [
    "graph1.is_edge('node1','node4')"
   ]
  },
  {
   "cell_type": "code",
   "execution_count": 26,
   "metadata": {},
   "outputs": [
    {
     "data": {
      "text/plain": [
       "True"
      ]
     },
     "execution_count": 26,
     "metadata": {},
     "output_type": "execute_result"
    }
   ],
   "source": [
    "graph1.is_isolated('node9')"
   ]
  },
  {
   "cell_type": "code",
   "execution_count": 27,
   "metadata": {},
   "outputs": [
    {
     "data": {
      "text/plain": [
       "True"
      ]
     },
     "execution_count": 27,
     "metadata": {},
     "output_type": "execute_result"
    }
   ],
   "source": [
    "graph1.is_dead_end('node4')"
   ]
  },
  {
   "cell_type": "code",
   "execution_count": 28,
   "metadata": {},
   "outputs": [
    {
     "name": "stdout",
     "output_type": "stream",
     "text": [
      "node1 is Added to graph1\n",
      "Graph Name: graph1 Num Nodes: 6\n",
      " Graph Chart: \n",
      "node10:['node3', 'node2']\n",
      "node9:['node2', 'node10']\n",
      "node1:['node2', 'node4']\n",
      "node3:['node2', 'node4']\n",
      "node2:['node3', 'node4']\n",
      "node4:[]\n",
      "\n",
      "{('node2', 'node3'): 5, ('node3', 'node2'): 15, ('node10', 'node3'): 15, ('node3', 'node4'): 5, ('node10', 'node2'): 5, ('node9', 'node10'): 10, ('node9', 'node2'): 15, ('node1', 'node4'): 20, ('node1', 'node2'): 10, ('node2', 'node4'): 10}\n"
     ]
    }
   ],
   "source": [
    "graph1.add_node(node1)\n",
    "print graph1\n",
    "print graph1.edges"
   ]
  },
  {
   "cell_type": "code",
   "execution_count": 29,
   "metadata": {},
   "outputs": [
    {
     "name": "stdout",
     "output_type": "stream",
     "text": [
      "node8 is Added to graph1\n",
      "Graph Name: graph1 Num Nodes: 7\n",
      " Graph Chart: \n",
      "node10:['node3', 'node2']\n",
      "node9:['node2', 'node10', 'node8']\n",
      "node8:['node1', 'node2']\n",
      "node1:['node2', 'node4']\n",
      "node3:['node2', 'node4']\n",
      "node2:['node3', 'node4']\n",
      "node4:[]\n",
      "\n",
      "{('node9', 'node8'): 20, ('node2', 'node3'): 5, ('node3', 'node2'): 15, ('node10', 'node3'): 15, ('node3', 'node4'): 5, ('node10', 'node2'): 5, ('node8', 'node1'): 5, ('node9', 'node10'): 10, ('node9', 'node2'): 15, ('node1', 'node4'): 20, ('node8', 'node2'): 20, ('node1', 'node2'): 10, ('node2', 'node4'): 10}\n"
     ]
    }
   ],
   "source": [
    "graph1.add_node(node8)\n",
    "print graph1\n",
    "print graph1.edges"
   ]
  },
  {
   "cell_type": "code",
   "execution_count": 30,
   "metadata": {},
   "outputs": [
    {
     "name": "stdout",
     "output_type": "stream",
     "text": [
      "node1 Removed From graph1\n",
      "Graph Name: graph1 Num Nodes: 6\n",
      " Graph Chart: \n",
      "node10:['node3', 'node2']\n",
      "node9:['node2', 'node10', 'node8']\n",
      "node8:['node2']\n",
      "node3:['node2', 'node4']\n",
      "node2:['node3', 'node4']\n",
      "node4:[]\n",
      "\n",
      "{('node9', 'node8'): 20, ('node2', 'node3'): 5, ('node3', 'node2'): 15, ('node10', 'node3'): 15, ('node3', 'node4'): 5, ('node10', 'node2'): 5, ('node9', 'node10'): 10, ('node9', 'node2'): 15, ('node8', 'node2'): 20, ('node2', 'node4'): 10}\n"
     ]
    }
   ],
   "source": [
    "graph1.remove_node('node1')\n",
    "print graph1\n",
    "print graph1.edges"
   ]
  },
  {
   "cell_type": "code",
   "execution_count": 31,
   "metadata": {},
   "outputs": [
    {
     "name": "stdout",
     "output_type": "stream",
     "text": [
      "Note: node1 is not in: graph1\n",
      "Graph Name: graph1 Num Nodes: 6\n",
      " Graph Chart: \n",
      "node10:['node3', 'node2']\n",
      "node9:['node2', 'node10', 'node8']\n",
      "node8:['node2']\n",
      "node3:['node2', 'node4']\n",
      "node2:['node3', 'node4']\n",
      "node4:[]\n",
      "\n"
     ]
    }
   ],
   "source": [
    "graph1.remove_node('node1')\n",
    "print graph1"
   ]
  },
  {
   "cell_type": "code",
   "execution_count": 32,
   "metadata": {},
   "outputs": [
    {
     "name": "stdout",
     "output_type": "stream",
     "text": [
      "node3 is pointing at Nodes:{'node10': 3, 'node2': 7, 'node4': 5}\n"
     ]
    }
   ],
   "source": [
    "node3.pointing_at={'node4':5,'node2':7,'node10':3}\n",
    "print node3"
   ]
  },
  {
   "cell_type": "code",
   "execution_count": 33,
   "metadata": {},
   "outputs": [
    {
     "name": "stdout",
     "output_type": "stream",
     "text": [
      "Note: node3 is already in graph1 .Only new edges are added\n",
      "Graph Name: graph1 Num Nodes: 6\n",
      " Graph Chart: \n",
      "node10:['node3', 'node2']\n",
      "node9:['node2', 'node10', 'node8']\n",
      "node8:['node2']\n",
      "node3:['node2', 'node4', 'node10']\n",
      "node2:['node3', 'node4']\n",
      "node4:[]\n",
      "\n",
      "{('node9', 'node8'): 20, ('node2', 'node3'): 5, ('node3', 'node2'): 15, ('node3', 'node10'): 3, ('node10', 'node3'): 15, ('node3', 'node4'): 5, ('node10', 'node2'): 5, ('node9', 'node10'): 10, ('node9', 'node2'): 15, ('node8', 'node2'): 20, ('node2', 'node4'): 10}\n"
     ]
    }
   ],
   "source": [
    "#Adding an existing node to the graph with different edges\n",
    "graph1.add_node(node3)\n",
    "print graph1\n",
    "print graph1.edges"
   ]
  },
  {
   "cell_type": "code",
   "execution_count": 34,
   "metadata": {},
   "outputs": [
    {
     "name": "stdout",
     "output_type": "stream",
     "text": [
      "Not Allowed: node7 is not in  graph1\n",
      "Not Allowed: node6 is not in  graph1\n",
      "Not Allowed: node2 is already a neighbor of  node9\n",
      "node9 Is now pointing at node4\n"
     ]
    }
   ],
   "source": [
    "graph1.add_edge('node9','node7',10)\n",
    "graph1.add_edge('node6','node9',20)\n",
    "graph1.add_edge('node9','node2',5)\n",
    "graph1.add_edge('node9','node4',25)"
   ]
  },
  {
   "cell_type": "code",
   "execution_count": 35,
   "metadata": {},
   "outputs": [
    {
     "name": "stdout",
     "output_type": "stream",
     "text": [
      "Graph Name: graph1 Num Nodes: 6\n",
      " Graph Chart: \n",
      "node10:['node3', 'node2']\n",
      "node9:['node2', 'node10', 'node8', 'node4']\n",
      "node8:['node2']\n",
      "node3:['node2', 'node4', 'node10']\n",
      "node2:['node3', 'node4']\n",
      "node4:[]\n",
      "\n",
      "{('node9', 'node8'): 20, ('node2', 'node3'): 5, ('node3', 'node2'): 15, ('node3', 'node10'): 3, ('node10', 'node3'): 15, ('node3', 'node4'): 5, ('node10', 'node2'): 5, ('node9', 'node4'): 25, ('node9', 'node10'): 10, ('node9', 'node2'): 15, ('node8', 'node2'): 20, ('node2', 'node4'): 10}\n"
     ]
    }
   ],
   "source": [
    "print graph1\n",
    "print graph1.edges"
   ]
  },
  {
   "cell_type": "code",
   "execution_count": 36,
   "metadata": {},
   "outputs": [
    {
     "name": "stdout",
     "output_type": "stream",
     "text": [
      "Not Allowed: node7 is not in  graph1\n",
      "Not Allowed: node6 is not in  graph1\n",
      "node10 is not a neighbor of  node2\n",
      "node9 Is now Not pointing at node4\n"
     ]
    }
   ],
   "source": [
    "graph1.remove_edge('node9','node7')\n",
    "graph1.remove_edge('node6','node9')\n",
    "graph1.remove_edge('node2','node10')\n",
    "graph1.remove_edge('node9','node4')"
   ]
  },
  {
   "cell_type": "code",
   "execution_count": 37,
   "metadata": {},
   "outputs": [
    {
     "name": "stdout",
     "output_type": "stream",
     "text": [
      "Graph Name: graph1 Num Nodes: 6\n",
      " Graph Chart: \n",
      "node10:['node3', 'node2']\n",
      "node9:['node2', 'node10', 'node8']\n",
      "node8:['node2']\n",
      "node3:['node2', 'node4', 'node10']\n",
      "node2:['node3', 'node4']\n",
      "node4:[]\n",
      "\n",
      "{('node9', 'node8'): 20, ('node2', 'node3'): 5, ('node3', 'node2'): 15, ('node3', 'node10'): 3, ('node10', 'node3'): 15, ('node3', 'node4'): 5, ('node10', 'node2'): 5, ('node9', 'node10'): 10, ('node9', 'node2'): 15, ('node8', 'node2'): 20, ('node2', 'node4'): 10}\n"
     ]
    }
   ],
   "source": [
    "print graph1\n",
    "print graph1.edges"
   ]
  },
  {
   "cell_type": "code",
   "execution_count": 38,
   "metadata": {},
   "outputs": [
    {
     "name": "stdout",
     "output_type": "stream",
     "text": [
      "UN: node7 is not in  graph1\n",
      "UN: node6 is not in  graph1\n",
      "node4 is not a neighbor of  node9\n"
     ]
    },
    {
     "data": {
      "text/plain": [
       "5"
      ]
     },
     "execution_count": 38,
     "metadata": {},
     "output_type": "execute_result"
    }
   ],
   "source": [
    "graph1.get_edge_weight('node9','node7')\n",
    "graph1.get_edge_weight('node6','node9')\n",
    "graph1.get_edge_weight('node9','node4')\n",
    "graph1.get_edge_weight('node2','node3')"
   ]
  },
  {
   "cell_type": "code",
   "execution_count": 39,
   "metadata": {
    "collapsed": true
   },
   "outputs": [],
   "source": [
    "graph1.get_path_weight([])"
   ]
  },
  {
   "cell_type": "code",
   "execution_count": 40,
   "metadata": {
    "collapsed": true
   },
   "outputs": [],
   "source": [
    "graph1.get_path_weight(['node9','node2','node1'])"
   ]
  },
  {
   "cell_type": "code",
   "execution_count": 41,
   "metadata": {
    "collapsed": true
   },
   "outputs": [],
   "source": [
    "graph1.get_path_weight(['node9','node2','node10'])"
   ]
  },
  {
   "cell_type": "code",
   "execution_count": 42,
   "metadata": {},
   "outputs": [
    {
     "data": {
      "text/plain": [
       "45"
      ]
     },
     "execution_count": 42,
     "metadata": {},
     "output_type": "execute_result"
    }
   ],
   "source": [
    "graph1.get_path_weight(['node9','node2','node3','node2','node4'])"
   ]
  },
  {
   "cell_type": "code",
   "execution_count": 43,
   "metadata": {},
   "outputs": [
    {
     "data": {
      "text/plain": [
       "'False'"
      ]
     },
     "execution_count": 43,
     "metadata": {},
     "output_type": "execute_result"
    }
   ],
   "source": [
    "graph1.is_reachable('node9','node1')"
   ]
  },
  {
   "cell_type": "code",
   "execution_count": 44,
   "metadata": {},
   "outputs": [
    {
     "data": {
      "text/plain": [
       "'False'"
      ]
     },
     "execution_count": 44,
     "metadata": {},
     "output_type": "execute_result"
    }
   ],
   "source": [
    "graph1.is_reachable('node1','node2')"
   ]
  },
  {
   "cell_type": "code",
   "execution_count": 45,
   "metadata": {},
   "outputs": [
    {
     "data": {
      "text/plain": [
       "'False'"
      ]
     },
     "execution_count": 45,
     "metadata": {},
     "output_type": "execute_result"
    }
   ],
   "source": [
    "graph1.is_reachable('node4','node10')"
   ]
  },
  {
   "cell_type": "code",
   "execution_count": 46,
   "metadata": {},
   "outputs": [
    {
     "data": {
      "text/plain": [
       "'True'"
      ]
     },
     "execution_count": 46,
     "metadata": {},
     "output_type": "execute_result"
    }
   ],
   "source": [
    "graph1.is_reachable('node9','node4')"
   ]
  },
  {
   "cell_type": "code",
   "execution_count": 47,
   "metadata": {
    "collapsed": true
   },
   "outputs": [],
   "source": [
    "graph1.find_shortest_path('node4','node10')"
   ]
  },
  {
   "cell_type": "code",
   "execution_count": 48,
   "metadata": {},
   "outputs": [
    {
     "data": {
      "text/plain": [
       "['node9', 'node2', 'node4']"
      ]
     },
     "execution_count": 48,
     "metadata": {},
     "output_type": "execute_result"
    }
   ],
   "source": [
    "graph1.find_shortest_path('node9','node4')"
   ]
  },
  {
   "cell_type": "code",
   "execution_count": 49,
   "metadata": {
    "collapsed": true
   },
   "outputs": [],
   "source": [
    "#Part II - Task 2 - Exemplary usage\n",
    "\n",
    "graphA=Graph('graphA',[node2,node3,node9,node10])\n",
    "graphB=Graph('graphB',[node1,node8,node4])\n",
    "graphC=Graph('graphC',[node5,node6,node7])"
   ]
  },
  {
   "cell_type": "code",
   "execution_count": 50,
   "metadata": {},
   "outputs": [
    {
     "name": "stdout",
     "output_type": "stream",
     "text": [
      "node1 is Added to graphAgraphB\n",
      "node8 is Added to graphAgraphB\n",
      "node4 is Added to graphAgraphB\n"
     ]
    }
   ],
   "source": [
    "graph_all1=graphA+graphB"
   ]
  },
  {
   "cell_type": "code",
   "execution_count": 51,
   "metadata": {},
   "outputs": [
    {
     "name": "stdout",
     "output_type": "stream",
     "text": [
      "Graph Name: graphAgraphB Num Nodes: 7\n",
      " Graph Chart: \n",
      "node10:['node3', 'node2']\n",
      "node9:['node2', 'node10', 'node8']\n",
      "node8:['node1', 'node2']\n",
      "node1:['node2', 'node4']\n",
      "node3:['node10', 'node2', 'node4']\n",
      "node2:['node3', 'node4']\n",
      "node4:[]\n",
      "\n"
     ]
    }
   ],
   "source": [
    "print graph_all1"
   ]
  },
  {
   "cell_type": "code",
   "execution_count": 52,
   "metadata": {},
   "outputs": [
    {
     "name": "stdout",
     "output_type": "stream",
     "text": [
      "node5 is Added to graphAgraphBgraphC\n",
      "node7 is Added to graphAgraphBgraphC\n",
      "node6 is Added to graphAgraphBgraphC\n"
     ]
    }
   ],
   "source": [
    "graphAll=graph_all1+graphC"
   ]
  },
  {
   "cell_type": "code",
   "execution_count": 53,
   "metadata": {},
   "outputs": [
    {
     "name": "stdout",
     "output_type": "stream",
     "text": [
      "Graph Name: graphAgraphBgraphC Num Nodes: 10\n",
      " Graph Chart: \n",
      "node10:['node3', 'node2']\n",
      "node9:['node8', 'node2', 'node10']\n",
      "node8:['node1', 'node2', 'node7']\n",
      "node1:['node2', 'node4', 'node5', 'node7', 'node6']\n",
      "node3:['node10', 'node2', 'node4']\n",
      "node2:['node3', 'node4']\n",
      "node5:['node6']\n",
      "node4:['node5']\n",
      "node7:['node6']\n",
      "node6:[]\n",
      "\n"
     ]
    }
   ],
   "source": [
    "print graphAll"
   ]
  },
  {
   "cell_type": "code",
   "execution_count": 54,
   "metadata": {
    "collapsed": true
   },
   "outputs": [],
   "source": [
    "#Part II - Task 2 - Exemplary usage\n",
    "\n",
    "# graphAll=Graph('graphAll',[node1,node2,node3,node4,node5,node6,node7,node8,node9,node10])\n",
    "# print graphAll\n",
    "# print graphAll.graph_chart"
   ]
  },
  {
   "cell_type": "code",
   "execution_count": 55,
   "metadata": {},
   "outputs": [
    {
     "name": "stdout",
     "output_type": "stream",
     "text": [
      "node6 has 9 reachable nodes\n",
      "node5 has 7 reachable nodes\n",
      "node4 has 6 reachable nodes\n",
      "node10 has 5 reachable nodes\n",
      "node3 has 5 reachable nodes\n",
      "node2 has 5 reachable nodes\n",
      "node7 has 3 reachable nodes\n",
      "node1 has 2 reachable nodes\n",
      "node8 has 1 reachable nodes\n",
      "node9 has 0 reachable nodes\n"
     ]
    }
   ],
   "source": [
    "#Part II - Task 2 - Exemplary usage\n",
    "#Question 3 - Sort the nodes by the number of their reachable nodes\n",
    "\n",
    "num_reachable_nodes_dict={}\n",
    "for vertax in graphAll.nodes.keys():\n",
    "    reachable=0\n",
    "    for node in graphAll.nodes.keys():\n",
    "        if node==vertax:\n",
    "            continue\n",
    "        item=graphAll.is_reachable(node,vertax)\n",
    "        if item =='True':\n",
    "            reachable=reachable+1\n",
    "        num_reachable_nodes_dict[vertax]=reachable\n",
    "    \n",
    "#print num_reachable_nodes_dict\n",
    "vertaxs_sorted_by_num_reachable_nodes=sorted(num_reachable_nodes_dict.items(),key=lambda x:x[1],reverse=True)\n",
    "#print 'vertaxs_sorted_by_num_reachable_nodes: \\n',vertaxs_sorted_by_num_reachable_nodes\n",
    "for item in range(0,len(vertaxs_sorted_by_num_reachable_nodes)):\n",
    "    print vertaxs_sorted_by_num_reachable_nodes[item][0],'has',vertaxs_sorted_by_num_reachable_nodes[item][1],'reachable nodes'"
   ]
  },
  {
   "cell_type": "code",
   "execution_count": 56,
   "metadata": {},
   "outputs": [
    {
     "name": "stdout",
     "output_type": "stream",
     "text": [
      "The pair of nodes that the shortest path between them has the highest weight: \n",
      "('node9', 'node5')\n",
      "with a weight of: \n",
      "35\n"
     ]
    }
   ],
   "source": [
    "#Part II - Task 2 - Exemplary usage\n",
    "#Question 4\n",
    "\n",
    "all_shortest_paths_dict={}\n",
    "for vertax in graphAll.nodes.keys():\n",
    "    for node in graphAll.nodes.keys():\n",
    "        path=graphAll.find_shortest_path_tmp1(vertax,node)\n",
    "        path_weight=path.values()[0]\n",
    "        #print path_weight\n",
    "        if path_weight==0:\n",
    "            continue\n",
    "        else:\n",
    "            all_shortest_paths_dict[vertax,node]=path_weight\n",
    "        \n",
    "#print all_shortest_paths_dict\n",
    "sorted_all_shortest_paths_dict=sorted(all_shortest_paths_dict.items(),key=lambda x:x[1],reverse=True)\n",
    "#print sorted_all_shortest_paths_dict\n",
    "print 'The pair of nodes that the shortest path between them has the highest weight: \\n',sorted_all_shortest_paths_dict[0][0]\n",
    "print 'with a weight of: \\n', sorted_all_shortest_paths_dict[0][1]\n"
   ]
  },
  {
   "cell_type": "code",
   "execution_count": null,
   "metadata": {
    "collapsed": true
   },
   "outputs": [],
   "source": []
  },
  {
   "cell_type": "code",
   "execution_count": null,
   "metadata": {
    "collapsed": true
   },
   "outputs": [],
   "source": []
  }
 ],
 "metadata": {
  "kernelspec": {
   "display_name": "Python 2",
   "language": "python",
   "name": "python2"
  },
  "language_info": {
   "codemirror_mode": {
    "name": "ipython",
    "version": 2
   },
   "file_extension": ".py",
   "mimetype": "text/x-python",
   "name": "python",
   "nbconvert_exporter": "python",
   "pygments_lexer": "ipython2",
   "version": "2.7.14"
  }
 },
 "nbformat": 4,
 "nbformat_minor": 2
}
